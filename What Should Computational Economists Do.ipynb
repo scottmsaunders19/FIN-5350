{
 "cells": [
  {
   "cell_type": "markdown",
   "metadata": {},
   "source": [
    "## Computational Windows to the Soul\n",
    "\n",
    "&nbsp;&nbsp;&nbsp;&nbsp;&nbsp;From the early stages of the study of political economy, the focus has been on the interactions of individuals and insights into the behavior of society. However, the field gradually drifted to have a more “scientific” orientation, more focused on resource allocation and maximizations sprinkled with normative statements on how to solve problems than on the study of individuals and the markets which they create. As T.D. Weldon once suggested, “the very word ‘problem’ in and of itself implies the presence of a ‘solution’”, though in most market situations there is not a right or wrong answer (Buchanan). James Buchanan explored the change in the focus of economics in his paper, What Should Economists Do, back in 1965. Throughout his paper, he provided a number of unique insights, which will be further explored to answer a more modern question: what should computational and financial economists do? Though there can be many answers to this question, I believe that computational and financial economists should use computational models to help create actionable insights into the market, at a level understandable for market participants so that they can use the information. \n",
    "\n",
    "&nbsp;&nbsp;&nbsp;&nbsp;&nbsp;The ‘market’, as we know it, has grown rapidly in a number of ways. One of the more obvious ways is through population growth. As more and more consumers enter the world, there are an increasing number of decisions being made. Therefore, the local markets that they participate in, on levels from individual families to towns and cities, continue to expand as well which provide additional opportunities for economists to provide meaningful insights. The true importance of this, however, is understated if technological developments are not considered as well. As smartphones, the internet, and higher education continue to spread throughout the globe, they bring more and more people into the national and global stage as well. Economists, as Buchanan argued, can provide significant value through helping to reshape the thinking about markets. “The ‘market’ or market organization is not a means towards the accomplishment of anything,” Buchanan says, “it is, instead, the institutional embodiment of the voluntary exchange processes that are entered into by individuals” (Buchanan). Two tools which should be used by computational economists are particularly valuable, namely financial modeling and prediction markets. \n",
    "\n",
    "&nbsp;&nbsp;&nbsp;&nbsp;&nbsp;Financial modeling, often combined with statistics, offers powerful insights into the market and the efficiency of its operations. In their paper Performance of Statistical Arbitrage in Petroleum Futures Markets, Alizadeh and Nomikos use computation to develop new profitable trading strategies. The strategies are not based off of macroeconomic optimism, but on analysis of past data and trends. They use the historical data of different pairs of petroleum futures prices to analyze the existence of cointegration and causal effects which can enable more accurate predictions of market performance following a variation from long-run mean spreads. Statistical and data analysis identified some inefficiency in the futures prices and their reversion to long-run means. Since prices should reflect the information and feelings inherent in the market, or in the individuals participating in the exchange, they can be used to develop insights into how consumers behave. For example, in markets like petroleum futures, even significant short-run price fluctuations tend not to be significant to affect the long-run average spread differences. Further analysis of other trends with similar results could lead to insights about how consumers respond to new information and what types of developments are more impactful on their decision making. \n",
    "\n",
    "&nbsp;&nbsp;&nbsp;&nbsp;&nbsp;The authors also demonstrated the use of a computationally-intensive technique called bootstrapping. Bootstrapping, and other models, largely arose from the problem that data snooping causes when creating models and trading strategies, such as the one described above, based purely on historical data. A potential cause of significant error, data snooping “occurs when a data set is used more than once for data selection and inference purposes” (Alizadeh and Nomikos). The repeated use of a particular data set can be dangerous, as it becomes increasingly likely that a model will produce results that fit the data by simple probability, rather than from genuine analytical and predictive power. If a model is errantly created, it could lead to disastrous results as users would wrongfully assume that the model applies just as well to current and future data as the data used to initially evaluate the model. \n",
    "\n",
    "&nbsp;&nbsp;&nbsp;&nbsp;&nbsp;If bootstrapping is used successfully, this risk is dramatically reduced. Bootstrapping is used to create new data sets which have the same statistical properties of the original data, but use different prices or other indicators. This helps to test the model under controlled circumstances which are reflective of past real-world trends, and can be used to determine the usefulness of models outside of the original data set (Alizadeh and Nomikos). Bootstrapping, and other similar techniques, have been powerful analytical and predictive tools and should be used further by computational economists. These techniques could allow them to analyze new rising financial products and prices, such as REITs specific to certain neighborhoods, to better understand how consumer decisions affect the perceived value of certain areas. For example, if a community with properties included in a REIT passed significant property tax increases, it could be argued that analysis of past and bootstrapped data could provide more insights into how taxes affects individual decisions and perceptions of value. Computational and financial economists should use computational models more heavily to better analyze individual decisions reflected in the market.  \n",
    "\n",
    "&nbsp;&nbsp;&nbsp;&nbsp;&nbsp;While computational models tend to be used to evaluate data collected from several years ago, predictive markets provide computational economists a unique insight into more “live” consumer behavior. Buchanan argued that economists should feel a greater necessity to understand “man’s behavior in the market relationship”, instead of the more traditional resource allocation question (Buchanan). Predictive markets are generally used to gauge public confidence in the occurrence of specific events, such as the outcome of presidential elections. They have also been used by some to help organizations monitor the probability of completing certain projects or other things. By collecting the information provided by so many individual market participants integrated through option prices, people have been able to successfully use these tools to predict real-life outcomes (Kabil). A more detailed study of the prices could provide new insights into the relative value of some actions compared to others, as well as other unidentified opportunities.\n",
    "\n",
    "&nbsp;&nbsp;&nbsp;&nbsp;&nbsp;Consider the following application of predictive markets in education. Suppose that a university was trying to determine how their efforts to build program value were improving its standing in the eyes of potential employers, students, and the general community. A university could create a prediction market by selling options based on a potential outcome, say that a new freshman (or a percentage of their freshmen) studying business would find a job paying higher than the national average for undergraduate business students. If they offered to pay out $1 dollar if the student didn’t meet this condition, they could use the price of the option market over time to see how the public perception of their program changes almost in real time. The numbers could also be compared to enrollment rates, average GPA of new applicants, or similar statistics to see if the prices could actually be indicative of current trends. While the predictive market may need to be available to a smaller group to make it financially viable, it could provide valuable information about public opinion, in a much more comprehensive way than is currently being used by universities. \n",
    "\n",
    "&nbsp;&nbsp;&nbsp;&nbsp;&nbsp;Predictive markets could also be used to further our knowledge of the economies which exist inside of corporations. Though they are already an important piece of existing economy, they also have unique “markets” that exist inside of them depending on how they structure compensation, schedules, and other factors. Suppose that a corporation had been struggling to promptly complete projects that it had won. The corporation had tried a number of different ways to improve performance, but still fell short. They could hire a computational economist familiar with organizational theory and finance to construct a predictive market, which would pay if the company completed their next project on time. The original market price could be reflective of the initial confidence that the project would be completed punctually. As the corporation worked with the computational economist to attempt to improve the probability of completing the project, they could monitor the changes in option prices to see which changes proved effective and better understand why. By understanding what worked better, the corporation and the economist would gain valuable insights into how the individuals inside of the corporation exchange information and effort, as their two main inputs in the corporate economy. In each of these situations, predictive markets could provide significant insights into how the individuals involved in the market think and exchange resources, and could better inform decision making. \n",
    "\t\n",
    "&nbsp;&nbsp;&nbsp;&nbsp;&nbsp;While computational models and predictive markets are two ways that computational and financial economists could better ‘do’ economics, these tools are less valuable if their results are not understandable and usable for potential users. Buchanan believed that economists should “try and know their subject matter”, but I believe that he fell short with this statement (Buchanan). Economists should not only try and understand the individuals and groups that they study, but also to be understood by them. If, for example, economists find that better health is correlated with higher salaries and workers can’t understand their work or don’t have access to it, then the benefits of their research are unavailable to some of the people who could most benefit from them. If research is not useable by the people who most need it, then economists are failing in their role to gain insights into market behavior and consumer decision making. Though findings may be difficult to simplify, books such as Freakonomics have proven to be quite popular due to their ability to meaningfully inform consumers about unique insights into their decision making. There are also other mediums used to distribute this information, but much could be done to further the influence of computational economists. Computational methods, predictive markets, and other tools used by economists would become even more powerful if there results were provided more broadly to consumers.\n",
    "\n",
    "&nbsp;&nbsp;&nbsp;&nbsp;&nbsp;Computational economists have a unique role to play in the research community. If they are able to focus more predominantly on the market of individuals and how they decide to participate in exchange, they will be able to provide even more significant insights. Computational models and predictive markets are two tools at their disposal, and as they use these tools and make their discoveries more digestible their influence will only grow. In short, computational economists should use analytical tools to better help society and individuals know how they interact and behave, creating computational windows to the soul.\n",
    "\n",
    "## Works Cited\n",
    "\n",
    "Alizadeh, Amir H., and Nikos K. Nomikos. 2008. \"Performance Of Statistical Arbitrage In Petroleum Futures Markets\". *The Journal Of Energy Markets* 1 (2): 3-33. doi:10.21314/jem.2008.006.\n",
    "\n",
    "Buchanan, James M. 1964. \"What Should Economists Do?\". *Southern Economic Journal* 30 (3): 213. doi:10.2307/1055931.\n",
    "\n",
    "Kambil, Ajit. 2017. \"Predictive Markets: Predicting The Rise Of Prediction Markets - Analytics Magazine\". *Analytics Magazine*. http://analytics-magazine.org/predictive-markets-predicting-the-rise-of-prediction-markets/.\n"
   ]
  },
  {
   "cell_type": "code",
   "execution_count": null,
   "metadata": {
    "collapsed": true
   },
   "outputs": [],
   "source": []
  }
 ],
 "metadata": {
  "kernelspec": {
   "display_name": "Python 3",
   "language": "python",
   "name": "python3"
  },
  "language_info": {
   "codemirror_mode": {
    "name": "ipython",
    "version": 3
   },
   "file_extension": ".py",
   "mimetype": "text/x-python",
   "name": "python",
   "nbconvert_exporter": "python",
   "pygments_lexer": "ipython3",
   "version": "3.6.1"
  }
 },
 "nbformat": 4,
 "nbformat_minor": 2
}
